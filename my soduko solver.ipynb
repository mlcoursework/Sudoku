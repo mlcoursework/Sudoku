{
 "cells": [
  {
   "cell_type": "markdown",
   "metadata": {},
   "source": [
    "## Soduko Solver\n",
    "\n",
    "Inspiration: https://www.youtube.com/watch?v=G_UYXzGuqvM\n",
    "\n",
    "Approach: \n",
    "1. find the first empty cell\n",
    "2. check the possible options for the cell<br>\n",
    "    2a. if there is more than 1 option --> continue to the next empty cell<br>\n",
    "    2b. if there is one option --> fill it and restart the process\n",
    "3. no empty cells left? check the solution and congrats.\n",
    "\n",
    "future:\n",
    "- extend to also solve puzzles where there is more than 1 possible solution, or puzzles where there are no cells with just 1 degree of freedom.\n",
    "- some improvements by memoising the options for cells with more than one option, so the next run would be easier.\n",
    "- solution checker\n",
    "- check the validity of the input"
   ]
  },
  {
   "cell_type": "code",
   "execution_count": 94,
   "metadata": {},
   "outputs": [],
   "source": [
    "import numpy as np\n",
    "\n",
    "from functools import reduce # for unioning more than 2 arrays\n",
    "# https://numpy.org/doc/stable/reference/generated/numpy.union1d.html"
   ]
  },
  {
   "cell_type": "code",
   "execution_count": 95,
   "metadata": {},
   "outputs": [],
   "source": [
    "def find_box(r,c):\n",
    "    \"\"\"\n",
    "    Finds the 3X3 a cell belongs to.\n",
    "    Returns the row start index, col start index, row end index, col end index.\n",
    "    \"\"\"\n",
    "    start_r = (r//3)*3\n",
    "    start_c = (c//3)*3\n",
    "    return (start_r, start_c, start_r+2, start_c+2)"
   ]
  },
  {
   "cell_type": "code",
   "execution_count": 96,
   "metadata": {},
   "outputs": [],
   "source": [
    "def find_options(arr,r,c):\n",
    "    \"\"\"\n",
    "    Finds all the available options for a cell at row r and column c in array arr.\n",
    "    0s represent blank cells.\n",
    "    \"\"\"\n",
    "    box = find_box(r,c)\n",
    "    r = arr[r]\n",
    "    c = arr[:, c]\n",
    "    b = arr[box[0]:box[2]+1, box[1]:box[3]+1]\n",
    "    b = b.flatten()\n",
    "    union = reduce(np.union1d, (r,c,b))\n",
    "    return np.setdiff1d(range(10), union)"
   ]
  },
  {
   "cell_type": "code",
   "execution_count": 97,
   "metadata": {},
   "outputs": [],
   "source": [
    "def solver(arr):\n",
    "    \"\"\"\n",
    "    Tries to solve the puzzle recursively.\n",
    "    \n",
    "    zeros represent blank cells.\n",
    "    \"\"\"\n",
    "    print(\".\")\n",
    "    num_zeros = sum(sum(arr==0))   # how many blank cells\n",
    "    if num_zeros==0:               # if there are no blank cells - we're finished!\n",
    "        return arr\n",
    "    else:\n",
    "        n_changes = 0\n",
    "        for n,r in enumerate(arr):\n",
    "            for m,c in enumerate(r):\n",
    "                if c==0:\n",
    "                    options = find_options(arr,n,m)\n",
    "                    if len(options)==1:\n",
    "                        n_changes += 1\n",
    "                        arr[n,m]=options[0]\n",
    "\n",
    "                    else:\n",
    "                        continue\n",
    "                else:\n",
    "                    continue\n",
    "        if n_changes==0:\n",
    "            return \"There's more than 1 unique solution, or there are no solutions, or there are no cells with just 1 degree of freedom\"\n",
    "        else:\n",
    "            return solver(arr)\n"
   ]
  },
  {
   "cell_type": "code",
   "execution_count": 98,
   "metadata": {},
   "outputs": [
    {
     "name": "stdout",
     "output_type": "stream",
     "text": [
      ".\n",
      ".\n",
      ".\n",
      ".\n",
      ".\n",
      ".\n"
     ]
    },
    {
     "data": {
      "text/plain": [
       "True"
      ]
     },
     "execution_count": 98,
     "metadata": {},
     "output_type": "execute_result"
    }
   ],
   "source": [
    "# From the video:\n",
    "grid = [\n",
    "    [5,3,0,0,7,0,0,0,0],\n",
    "    [6,0,0,1,9,5,0,0,0],\n",
    "    [0,9,8,0,0,0,0,6,0],\n",
    "    [8,0,0,0,6,0,0,0,3],\n",
    "    [4,0,0,8,0,3,0,0,1],\n",
    "    [7,0,0,0,2,0,0,0,6],\n",
    "    [0,6,0,0,0,0,2,8,0],\n",
    "    [0,0,0,4,1,9,0,0,5],\n",
    "    [0,0,0,0,8,0,0,7,9]]\n",
    "\n",
    "# the solution:\n",
    "sol = [\n",
    "    [5,3,4,6,7,8,9,1,2],\n",
    "    [6,7,2,1,9,5,3,4,8],\n",
    "    [1,9,8,3,4,2,5,6,7],\n",
    "    [8,5,9,7,6,1,4,2,3],\n",
    "    [4,2,6,8,5,3,7,9,1],\n",
    "    [7,1,3,9,2,4,8,5,6],\n",
    "    [9,6,1,5,3,7,2,8,4],\n",
    "    [2,8,7,4,1,9,6,3,5],\n",
    "    [3,4,5,2,8,6,1,7,9]]\n",
    "\n",
    "# Check if it works on the grid in the video\n",
    "s = solver(np.array(grid))\n",
    "sum(sum(s==sol))==81"
   ]
  },
  {
   "cell_type": "code",
   "execution_count": 99,
   "metadata": {},
   "outputs": [
    {
     "name": "stdout",
     "output_type": "stream",
     "text": [
      ".\n",
      ".\n",
      ".\n",
      ".\n"
     ]
    },
    {
     "data": {
      "text/plain": [
       "array([[1, 5, 2, 4, 8, 9, 3, 7, 6],\n",
       "       [7, 3, 9, 2, 5, 6, 8, 4, 1],\n",
       "       [4, 6, 8, 3, 7, 1, 2, 9, 5],\n",
       "       [3, 8, 7, 1, 2, 4, 6, 5, 9],\n",
       "       [5, 9, 1, 7, 6, 3, 4, 2, 8],\n",
       "       [2, 4, 6, 8, 9, 5, 7, 1, 3],\n",
       "       [9, 1, 4, 6, 3, 7, 5, 8, 2],\n",
       "       [6, 2, 5, 9, 4, 8, 1, 3, 7],\n",
       "       [8, 7, 3, 5, 1, 2, 9, 6, 4]])"
      ]
     },
     "execution_count": 99,
     "metadata": {},
     "output_type": "execute_result"
    }
   ],
   "source": [
    "test = [\n",
    "    [1,0,0,4,8,9,0,0,6],\n",
    "    [7,3,0,0,0,0,0,4,0],\n",
    "    [0,0,0,0,0,1,2,9,5],\n",
    "    [0,0,7,1,2,0,6,0,0],\n",
    "    [5,0,0,7,0,3,0,0,8],\n",
    "    [0,0,6,0,9,5,7,0,0],\n",
    "    [9,1,4,6,0,0,0,0,0],\n",
    "    [0,2,0,0,0,0,0,3,7],\n",
    "    [8,0,0,5,1,2,0,0,4]]\n",
    "\n",
    "solver(np.array(test))"
   ]
  },
  {
   "cell_type": "code",
   "execution_count": 100,
   "metadata": {},
   "outputs": [
    {
     "name": "stdout",
     "output_type": "stream",
     "text": [
      ".\n",
      ".\n",
      ".\n",
      ".\n"
     ]
    },
    {
     "data": {
      "text/plain": [
       "array([[5, 3, 4, 6, 7, 8, 9, 1, 2],\n",
       "       [6, 7, 2, 1, 9, 5, 3, 4, 8],\n",
       "       [1, 9, 8, 3, 4, 2, 5, 6, 7],\n",
       "       [8, 5, 9, 7, 6, 1, 4, 2, 3],\n",
       "       [4, 2, 6, 8, 5, 3, 7, 9, 1],\n",
       "       [7, 1, 3, 9, 2, 4, 8, 5, 6],\n",
       "       [9, 6, 1, 5, 3, 7, 2, 8, 4],\n",
       "       [2, 8, 7, 4, 1, 9, 6, 3, 5],\n",
       "       [3, 4, 5, 2, 8, 6, 1, 7, 9]])"
      ]
     },
     "execution_count": 100,
     "metadata": {},
     "output_type": "execute_result"
    }
   ],
   "source": [
    "easy = [\n",
    "    [0,0,4,6,0,8,9,1,2],\n",
    "    [0,7,2,1,9,5,3,4,8],\n",
    "    [1,9,0,3,4,2,5,6,0],\n",
    "    [8,0,9,7,6,1,4,2,3],\n",
    "    [4,2,0,8,5,3,7,9,0],\n",
    "    [7,1,3,9,2,4,8,5,6],\n",
    "    [9,0,1,0,3,7,2,8,4],\n",
    "    [2,8,7,4,0,9,6,3,5],\n",
    "    [0,0,0,0,8,6,1,7,0]]\n",
    "\n",
    "solver(np.array(easy))"
   ]
  },
  {
   "cell_type": "code",
   "execution_count": null,
   "metadata": {},
   "outputs": [],
   "source": []
  }
 ],
 "metadata": {
  "kernelspec": {
   "display_name": "Python 3",
   "language": "python",
   "name": "python3"
  },
  "language_info": {
   "codemirror_mode": {
    "name": "ipython",
    "version": 3
   },
   "file_extension": ".py",
   "mimetype": "text/x-python",
   "name": "python",
   "nbconvert_exporter": "python",
   "pygments_lexer": "ipython3",
   "version": "3.6.8"
  }
 },
 "nbformat": 4,
 "nbformat_minor": 4
}
